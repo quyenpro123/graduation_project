{
 "cells": [
  {
   "cell_type": "code",
   "execution_count": 12,
   "metadata": {},
   "outputs": [
    {
     "name": "stdout",
     "output_type": "stream",
     "text": [
      "0.883419\n",
      "0.002849\n",
      "0.00017\n",
      "0.000176\n",
      "0.113386\n"
     ]
    }
   ],
   "source": [
    "\n",
    "import math\n",
    "z = [3.772, -1.965, -4.782, -4.750, 1.719]\n",
    "\n",
    "z_exp = [math.exp(i) for i in z]\n",
    "sum_z_exp = sum(z_exp)\n",
    "\n",
    "softmax = [round(i / sum_z_exp, 8) for i in z_exp]\n",
    "for i in softmax:\n",
    "    print(round(i,6))"
   ]
  }
 ],
 "metadata": {
  "kernelspec": {
   "display_name": "Python 3",
   "language": "python",
   "name": "python3"
  },
  "language_info": {
   "codemirror_mode": {
    "name": "ipython",
    "version": 3
   },
   "file_extension": ".py",
   "mimetype": "text/x-python",
   "name": "python",
   "nbconvert_exporter": "python",
   "pygments_lexer": "ipython3",
   "version": "3.12.2"
  }
 },
 "nbformat": 4,
 "nbformat_minor": 2
}
